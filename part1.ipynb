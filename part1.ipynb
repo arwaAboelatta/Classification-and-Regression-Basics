{
 "cells": [
  {
   "cell_type": "markdown",
   "id": "7acbfded-4f7a-4ea7-8520-c66cfe6e6c82",
   "metadata": {},
   "source": [
    "KNN - MAGIC Gamma Telescope"
   ]
  },
  {
   "cell_type": "code",
   "id": "39f84f66-c0cc-435c-b9bc-37d9342c762c",
   "metadata": {
    "ExecuteTime": {
     "end_time": "2024-11-04T11:38:48.842101Z",
     "start_time": "2024-11-04T11:38:48.835324Z"
    }
   },
   "source": [
    "import pandas as pd\n",
    "import numpy as np\n",
    "from sklearn.model_selection import train_test_split\n",
    "from sklearn.metrics import accuracy_score, precision_score, recall_score, f1_score, confusion_matrix\n",
    "from sklearn.neighbors import KNeighborsClassifier\n",
    "from imblearn.under_sampling import RandomUnderSampler\n",
    "from sklearn.preprocessing import MinMaxScaler\n",
    "import matplotlib.pyplot as plt"
   ],
   "outputs": [],
   "execution_count": 29
  },
  {
   "cell_type": "markdown",
   "id": "816425eb-35d1-4575-a5fd-5430bb1ec2c2",
   "metadata": {},
   "source": [
    "The next cell the the dataset column names and their adjustment and length"
   ]
  },
  {
   "cell_type": "code",
   "id": "aa206d75-220a-4725-8486-8bf7afae5d1f",
   "metadata": {
    "ExecuteTime": {
     "end_time": "2024-11-04T11:38:48.895884Z",
     "start_time": "2024-11-04T11:38:48.865246Z"
    }
   },
   "source": [
    "column_names = [\n",
    "    \"fLength\", \"fWidth\", \"fSize\", \"fConc\", \"fConc1\",\n",
    "    \"fAsym\", \"fM3Long\", \"fM3Trans\", \"fAlpha\", \"fDist\", \"class\"\n",
    "]\n",
    "\n",
    "dataset = pd.read_csv(r'D:\\term 7\\machine learning\\ML- Assignment 1\\ML- Assignment 1\\magic04.data', header=None, names=column_names)\n",
    "print(len(dataset))\n",
    "dataset.head()\n"
   ],
   "outputs": [
    {
     "name": "stdout",
     "output_type": "stream",
     "text": [
      "19020\n"
     ]
    },
    {
     "data": {
      "text/plain": [
       "    fLength    fWidth   fSize   fConc  fConc1     fAsym  fM3Long  fM3Trans  \\\n",
       "0   28.7967   16.0021  2.6449  0.3918  0.1982   27.7004  22.0110   -8.2027   \n",
       "1   31.6036   11.7235  2.5185  0.5303  0.3773   26.2722  23.8238   -9.9574   \n",
       "2  162.0520  136.0310  4.0612  0.0374  0.0187  116.7410 -64.8580  -45.2160   \n",
       "3   23.8172    9.5728  2.3385  0.6147  0.3922   27.2107  -6.4633   -7.1513   \n",
       "4   75.1362   30.9205  3.1611  0.3168  0.1832   -5.5277  28.5525   21.8393   \n",
       "\n",
       "    fAlpha     fDist class  \n",
       "0  40.0920   81.8828     g  \n",
       "1   6.3609  205.2610     g  \n",
       "2  76.9600  256.7880     g  \n",
       "3  10.4490  116.7370     g  \n",
       "4   4.6480  356.4620     g  "
      ],
      "text/html": [
       "<div>\n",
       "<style scoped>\n",
       "    .dataframe tbody tr th:only-of-type {\n",
       "        vertical-align: middle;\n",
       "    }\n",
       "\n",
       "    .dataframe tbody tr th {\n",
       "        vertical-align: top;\n",
       "    }\n",
       "\n",
       "    .dataframe thead th {\n",
       "        text-align: right;\n",
       "    }\n",
       "</style>\n",
       "<table border=\"1\" class=\"dataframe\">\n",
       "  <thead>\n",
       "    <tr style=\"text-align: right;\">\n",
       "      <th></th>\n",
       "      <th>fLength</th>\n",
       "      <th>fWidth</th>\n",
       "      <th>fSize</th>\n",
       "      <th>fConc</th>\n",
       "      <th>fConc1</th>\n",
       "      <th>fAsym</th>\n",
       "      <th>fM3Long</th>\n",
       "      <th>fM3Trans</th>\n",
       "      <th>fAlpha</th>\n",
       "      <th>fDist</th>\n",
       "      <th>class</th>\n",
       "    </tr>\n",
       "  </thead>\n",
       "  <tbody>\n",
       "    <tr>\n",
       "      <th>0</th>\n",
       "      <td>28.7967</td>\n",
       "      <td>16.0021</td>\n",
       "      <td>2.6449</td>\n",
       "      <td>0.3918</td>\n",
       "      <td>0.1982</td>\n",
       "      <td>27.7004</td>\n",
       "      <td>22.0110</td>\n",
       "      <td>-8.2027</td>\n",
       "      <td>40.0920</td>\n",
       "      <td>81.8828</td>\n",
       "      <td>g</td>\n",
       "    </tr>\n",
       "    <tr>\n",
       "      <th>1</th>\n",
       "      <td>31.6036</td>\n",
       "      <td>11.7235</td>\n",
       "      <td>2.5185</td>\n",
       "      <td>0.5303</td>\n",
       "      <td>0.3773</td>\n",
       "      <td>26.2722</td>\n",
       "      <td>23.8238</td>\n",
       "      <td>-9.9574</td>\n",
       "      <td>6.3609</td>\n",
       "      <td>205.2610</td>\n",
       "      <td>g</td>\n",
       "    </tr>\n",
       "    <tr>\n",
       "      <th>2</th>\n",
       "      <td>162.0520</td>\n",
       "      <td>136.0310</td>\n",
       "      <td>4.0612</td>\n",
       "      <td>0.0374</td>\n",
       "      <td>0.0187</td>\n",
       "      <td>116.7410</td>\n",
       "      <td>-64.8580</td>\n",
       "      <td>-45.2160</td>\n",
       "      <td>76.9600</td>\n",
       "      <td>256.7880</td>\n",
       "      <td>g</td>\n",
       "    </tr>\n",
       "    <tr>\n",
       "      <th>3</th>\n",
       "      <td>23.8172</td>\n",
       "      <td>9.5728</td>\n",
       "      <td>2.3385</td>\n",
       "      <td>0.6147</td>\n",
       "      <td>0.3922</td>\n",
       "      <td>27.2107</td>\n",
       "      <td>-6.4633</td>\n",
       "      <td>-7.1513</td>\n",
       "      <td>10.4490</td>\n",
       "      <td>116.7370</td>\n",
       "      <td>g</td>\n",
       "    </tr>\n",
       "    <tr>\n",
       "      <th>4</th>\n",
       "      <td>75.1362</td>\n",
       "      <td>30.9205</td>\n",
       "      <td>3.1611</td>\n",
       "      <td>0.3168</td>\n",
       "      <td>0.1832</td>\n",
       "      <td>-5.5277</td>\n",
       "      <td>28.5525</td>\n",
       "      <td>21.8393</td>\n",
       "      <td>4.6480</td>\n",
       "      <td>356.4620</td>\n",
       "      <td>g</td>\n",
       "    </tr>\n",
       "  </tbody>\n",
       "</table>\n",
       "</div>"
      ]
     },
     "execution_count": 30,
     "metadata": {},
     "output_type": "execute_result"
    }
   ],
   "execution_count": 30
  },
  {
   "metadata": {},
   "cell_type": "markdown",
   "source": [
    "[6]Here we are using pandas library to read our data from the magic04.data file\n",
    "  [1] We defined column names and I added for the column that classify whether g or h name class to classify upon this column"
   ],
   "id": "973af86b0d8093da"
  },
  {
   "cell_type": "markdown",
   "id": "842d7627-8872-4e89-8dbc-a67b3df71960",
   "metadata": {},
   "source": [
    "Separate dataset into features and labels"
   ]
  },
  {
   "cell_type": "code",
   "id": "fa270948-885c-40c3-808e-06caa1dbb612",
   "metadata": {
    "ExecuteTime": {
     "end_time": "2024-11-04T11:38:48.933895Z",
     "start_time": "2024-11-04T11:38:48.927710Z"
    }
   },
   "source": [
    "x=dataset.drop(['class'],axis=1)\n",
    "y=dataset['class']"
   ],
   "outputs": [],
   "execution_count": 31
  },
  {
   "cell_type": "markdown",
   "id": "1f55740e-953e-4e86-a4e7-fc3a096dd036",
   "metadata": {},
   "source": "see data distribution"
  },
  {
   "cell_type": "code",
   "id": "f0c56dbd-270e-446e-8248-700288a0298c",
   "metadata": {
    "scrolled": true,
    "ExecuteTime": {
     "end_time": "2024-11-04T11:38:48.977961Z",
     "start_time": "2024-11-04T11:38:48.971619Z"
    }
   },
   "source": "y.value_counts()\n",
   "outputs": [
    {
     "data": {
      "text/plain": [
       "class\n",
       "g    12332\n",
       "h     6688\n",
       "Name: count, dtype: int64"
      ]
     },
     "execution_count": 32,
     "metadata": {},
     "output_type": "execute_result"
    }
   ],
   "execution_count": 32
  },
  {
   "cell_type": "code",
   "id": "2c71036a-e9e8-44df-aaff-aa8a4d4419b6",
   "metadata": {
    "ExecuteTime": {
     "end_time": "2024-11-04T11:38:49.136039Z",
     "start_time": "2024-11-04T11:38:49.091981Z"
    }
   },
   "source": [
    "y.value_counts().plot.pie(autopct='%.2f')"
   ],
   "outputs": [
    {
     "data": {
      "text/plain": [
       "<Axes: ylabel='count'>"
      ]
     },
     "execution_count": 33,
     "metadata": {},
     "output_type": "execute_result"
    },
    {
     "data": {
      "text/plain": [
       "<Figure size 640x480 with 1 Axes>"
      ],
      "image/png": "[encoded data removed]"
     },
     "metadata": {},
     "output_type": "display_data"
    }
   ],
   "execution_count": 33
  },
  {
   "cell_type": "markdown",
   "id": "ea24e5eb-9445-4472-9dff-878be07a8ca6",
   "metadata": {},
   "source": [
    "The data diagram is unbalaced and we have to start balancing\n",
    "the dataset with equal samples for each class so no biasing happens"
   ]
  },
  {
   "cell_type": "code",
   "id": "fec84115-79cf-4fab-81ce-a4152c31c20d",
   "metadata": {
    "ExecuteTime": {
     "end_time": "2024-11-04T11:38:49.234579Z",
     "start_time": "2024-11-04T11:38:49.220328Z"
    }
   },
   "source": [
    "#rus=RandomUnderSampler(sampling_strategy=1)\n",
    "#x_res,y_res=rus.fit_resample(x,y)\n",
    "\n",
    "gamma_data = dataset[dataset['class'] == 'g']\n",
    "hadron_data = dataset[dataset['class'] == 'h']\n",
    "gamma_sampled = gamma_data.sample(n=len(hadron_data), random_state=42)\n",
    "balanced_data = pd.concat([gamma_sampled, hadron_data])\n",
    "balanced_data = balanced_data.sample(frac=1, random_state=42).reset_index(drop=True)\n",
    "x_res=balanced_data.drop(['class'],axis=1)\n",
    "y_res=balanced_data['class']\n",
    "\n",
    "# Display the balanced class counts to verify\n",
    "print(balanced_data['class'].value_counts())"
   ],
   "outputs": [
    {
     "name": "stdout",
     "output_type": "stream",
     "text": [
      "class\n",
      "h    6688\n",
      "g    6688\n",
      "Name: count, dtype: int64\n"
     ]
    }
   ],
   "execution_count": 34
  },
  {
   "cell_type": "markdown",
   "id": "a107cf65-5b38-4541-a19c-535a309ee369",
   "metadata": {},
   "source": [
    "[4] & [5] Separate gamma and hadron classes based on the column called class\n",
    "It is the column where it specifies whether g or h\n",
    "[6]Here take from the gamma class part of it which has the same size of the hadron class\n",
    " To make sure that our data is balanced and wouldn't cause bias\n",
    "Random state insures that you are taking your random data from specific point\n",
    " To make sure that everytime we run the code we select our data from the same point\n",
    " [7] We are merging the 2 classes together the balanced gamma class and the hadron class\n",
    "see the data distribution after balancing"
   ]
  },
  {
   "cell_type": "code",
   "id": "2274ed0c-e066-43db-a58f-97b72efe1abd",
   "metadata": {
    "ExecuteTime": {
     "end_time": "2024-11-04T11:38:49.309028Z",
     "start_time": "2024-11-04T11:38:49.261633Z"
    }
   },
   "source": [
    "ax=balanced_data['class'].value_counts().plot.pie(autopct='%.2f')\n",
    "_=ax.set_title(\"under-sampling\")\n",
    "balanced_data['class'].value_counts()"
   ],
   "outputs": [
    {
     "data": {
      "text/plain": [
       "class\n",
       "h    6688\n",
       "g    6688\n",
       "Name: count, dtype: int64"
      ]
     },
     "execution_count": 35,
     "metadata": {},
     "output_type": "execute_result"
    },
    {
     "data": {
      "text/plain": [
       "<Figure size 640x480 with 1 Axes>"
      ],
      "image/png": "[encoded data removed]"
     },
     "metadata": {},
     "output_type": "display_data"
    }
   ],
   "execution_count": 35
  },
  {
   "cell_type": "markdown",
   "id": "23431df2-8f9a-4d46-8406-fba6f27841f5",
   "metadata": {},
   "source": [
    "Split data and see the dataset numbers\n",
    "The data is now balanced"
   ]
  },
  {
   "cell_type": "code",
   "id": "9ce51960-8c48-45aa-9c0d-0e1032775469",
   "metadata": {
    "ExecuteTime": {
     "end_time": "2024-11-04T11:38:49.378030Z",
     "start_time": "2024-11-04T11:38:49.358654Z"
    }
   },
   "source": [
    "# First, split off 70% for training, leaving 30% in the temporary set (for validation and testing)\n",
    "x_train, x_temp, y_train, y_temp = train_test_split(x_res, y_res, test_size=0.3, random_state=42, stratify=y_res)\n",
    "\n",
    "# Second, split the temporary set into 50% validation and 50% test sets\n",
    "x_val, x_test, y_val, y_test = train_test_split(x_temp, y_temp, test_size=0.5, random_state=42, stratify=y_temp)\n",
    "\n",
    "print(\"Training set size:\", x_train.shape[0])\n",
    "print(\"Validation set size:\", x_val.shape[0])\n",
    "print(\"Testing set size:\", x_test.shape[0])\n"
   ],
   "outputs": [
    {
     "name": "stdout",
     "output_type": "stream",
     "text": [
      "Training set size: 9363\n",
      "Validation set size: 2006\n",
      "Testing set size: 2007\n"
     ]
    }
   ],
   "execution_count": 36
  },
  {
   "cell_type": "markdown",
   "id": "f00019d4-11cf-4c4a-b1fb-2c5b93bb807a",
   "metadata": {},
   "source": [
    "This train_test_split data 70% train data and 30% temp data that will be split\n",
    "This split temp data to two equal parts part for val and other for testing\n",
    "Normalize dataset and view the train dataset"
   ]
  },
  {
   "cell_type": "code",
   "id": "f57b04b7-4222-4c43-9661-6a9a8f2d143e",
   "metadata": {
    "ExecuteTime": {
     "end_time": "2024-11-04T11:38:49.482830Z",
     "start_time": "2024-11-04T11:38:49.463957Z"
    }
   },
   "source": [
    "from sklearn.preprocessing import StandardScaler\n",
    "\n",
    "scaler = StandardScaler()\n",
    "x_train = scaler.fit_transform(x_train) \n",
    "x_test = scaler.transform(x_test)\n",
    "x_val = scaler.transform(x_val) \n",
    "\n",
    "x_train_normalized = pd.DataFrame(x_train, columns=x.columns)\n",
    "x_test_normalized = pd.DataFrame(x_test, columns=x.columns)\n",
    "x_train_normalized.head()\n",
    "\n"
   ],
   "outputs": [
    {
     "data": {
      "text/plain": [
       "    fLength    fWidth     fSize     fConc    fConc1     fAsym   fM3Long  \\\n",
       "0 -0.674653  0.034940 -0.122973 -0.127442  0.448276  0.218827  0.144165   \n",
       "1 -0.718857 -0.301851 -0.321845 -0.300181 -0.371860 -0.671620  0.420688   \n",
       "2 -0.849051 -0.604688 -1.118386  1.109436  1.127102  0.137079 -0.237871   \n",
       "3  0.336803  0.262444  1.201441 -0.326255 -0.415684 -0.384332  0.605617   \n",
       "4  1.360068  4.102597  2.453959 -1.329012 -1.364608  0.345371 -0.881816   \n",
       "\n",
       "   fM3Trans    fAlpha     fDist  \n",
       "0 -0.707749 -0.096769 -0.970076  \n",
       "1  0.725489 -0.465373  0.765488  \n",
       "2  0.273081  0.020952  0.689586  \n",
       "3 -0.479026 -1.019167  2.078033  \n",
       "4 -3.889243  2.133065  1.872754  "
      ],
      "text/html": [
       "<div>\n",
       "<style scoped>\n",
       "    .dataframe tbody tr th:only-of-type {\n",
       "        vertical-align: middle;\n",
       "    }\n",
       "\n",
       "    .dataframe tbody tr th {\n",
       "        vertical-align: top;\n",
       "    }\n",
       "\n",
       "    .dataframe thead th {\n",
       "        text-align: right;\n",
       "    }\n",
       "</style>\n",
       "<table border=\"1\" class=\"dataframe\">\n",
       "  <thead>\n",
       "    <tr style=\"text-align: right;\">\n",
       "      <th></th>\n",
       "      <th>fLength</th>\n",
       "      <th>fWidth</th>\n",
       "      <th>fSize</th>\n",
       "      <th>fConc</th>\n",
       "      <th>fConc1</th>\n",
       "      <th>fAsym</th>\n",
       "      <th>fM3Long</th>\n",
       "      <th>fM3Trans</th>\n",
       "      <th>fAlpha</th>\n",
       "      <th>fDist</th>\n",
       "    </tr>\n",
       "  </thead>\n",
       "  <tbody>\n",
       "    <tr>\n",
       "      <th>0</th>\n",
       "      <td>-0.674653</td>\n",
       "      <td>0.034940</td>\n",
       "      <td>-0.122973</td>\n",
       "      <td>-0.127442</td>\n",
       "      <td>0.448276</td>\n",
       "      <td>0.218827</td>\n",
       "      <td>0.144165</td>\n",
       "      <td>-0.707749</td>\n",
       "      <td>-0.096769</td>\n",
       "      <td>-0.970076</td>\n",
       "    </tr>\n",
       "    <tr>\n",
       "      <th>1</th>\n",
       "      <td>-0.718857</td>\n",
       "      <td>-0.301851</td>\n",
       "      <td>-0.321845</td>\n",
       "      <td>-0.300181</td>\n",
       "      <td>-0.371860</td>\n",
       "      <td>-0.671620</td>\n",
       "      <td>0.420688</td>\n",
       "      <td>0.725489</td>\n",
       "      <td>-0.465373</td>\n",
       "      <td>0.765488</td>\n",
       "    </tr>\n",
       "    <tr>\n",
       "      <th>2</th>\n",
       "      <td>-0.849051</td>\n",
       "      <td>-0.604688</td>\n",
       "      <td>-1.118386</td>\n",
       "      <td>1.109436</td>\n",
       "      <td>1.127102</td>\n",
       "      <td>0.137079</td>\n",
       "      <td>-0.237871</td>\n",
       "      <td>0.273081</td>\n",
       "      <td>0.020952</td>\n",
       "      <td>0.689586</td>\n",
       "    </tr>\n",
       "    <tr>\n",
       "      <th>3</th>\n",
       "      <td>0.336803</td>\n",
       "      <td>0.262444</td>\n",
       "      <td>1.201441</td>\n",
       "      <td>-0.326255</td>\n",
       "      <td>-0.415684</td>\n",
       "      <td>-0.384332</td>\n",
       "      <td>0.605617</td>\n",
       "      <td>-0.479026</td>\n",
       "      <td>-1.019167</td>\n",
       "      <td>2.078033</td>\n",
       "    </tr>\n",
       "    <tr>\n",
       "      <th>4</th>\n",
       "      <td>1.360068</td>\n",
       "      <td>4.102597</td>\n",
       "      <td>2.453959</td>\n",
       "      <td>-1.329012</td>\n",
       "      <td>-1.364608</td>\n",
       "      <td>0.345371</td>\n",
       "      <td>-0.881816</td>\n",
       "      <td>-3.889243</td>\n",
       "      <td>2.133065</td>\n",
       "      <td>1.872754</td>\n",
       "    </tr>\n",
       "  </tbody>\n",
       "</table>\n",
       "</div>"
      ]
     },
     "execution_count": 37,
     "metadata": {},
     "output_type": "execute_result"
    }
   ],
   "execution_count": 37
  },
  {
   "cell_type": "markdown",
   "id": "c473d9cf-b4bc-4fc7-9dc1-eeec22f0452a",
   "metadata": {},
   "source": [
    "show the test dataset after normalizing\n",
    "After splitting the data we took each data group and started to normalize it so that all our values are between 0 and 1 to avoid outliers"
   ]
  },
  {
   "cell_type": "code",
   "id": "02fdd870-e544-48da-b83b-0d4cc491777a",
   "metadata": {
    "ExecuteTime": {
     "end_time": "2024-11-04T11:38:49.503499Z",
     "start_time": "2024-11-04T11:38:49.494343Z"
    }
   },
   "source": [
    "x_test_normalized.head()"
   ],
   "outputs": [
    {
     "data": {
      "text/plain": [
       "    fLength    fWidth     fSize     fConc    fConc1     fAsym   fM3Long  \\\n",
       "0 -0.653491 -0.610788 -0.930866  0.824797  1.168243  0.238861  0.176638   \n",
       "1 -0.759484 -0.558709 -0.728840  0.878574  0.899038  0.523202  0.022989   \n",
       "2  0.382777 -0.305999  0.589898 -0.742894 -0.749283  0.107712  0.746915   \n",
       "3 -0.585382 -0.818469 -1.363298  0.796007  0.516248 -0.466008 -0.350714   \n",
       "4  1.426304  1.548795  3.313147 -1.760860 -1.667799  1.048372  1.617822   \n",
       "\n",
       "   fM3Trans    fAlpha     fDist  \n",
       "0 -0.443504  0.479847 -0.837996  \n",
       "1  0.227793 -0.988790  0.360341  \n",
       "2  0.487793  0.148187  0.954252  \n",
       "3 -0.069763  0.210024 -0.776124  \n",
       "4  1.691802 -0.873921  0.845862  "
      ],
      "text/html": [
       "<div>\n",
       "<style scoped>\n",
       "    .dataframe tbody tr th:only-of-type {\n",
       "        vertical-align: middle;\n",
       "    }\n",
       "\n",
       "    .dataframe tbody tr th {\n",
       "        vertical-align: top;\n",
       "    }\n",
       "\n",
       "    .dataframe thead th {\n",
       "        text-align: right;\n",
       "    }\n",
       "</style>\n",
       "<table border=\"1\" class=\"dataframe\">\n",
       "  <thead>\n",
       "    <tr style=\"text-align: right;\">\n",
       "      <th></th>\n",
       "      <th>fLength</th>\n",
       "      <th>fWidth</th>\n",
       "      <th>fSize</th>\n",
       "      <th>fConc</th>\n",
       "      <th>fConc1</th>\n",
       "      <th>fAsym</th>\n",
       "      <th>fM3Long</th>\n",
       "      <th>fM3Trans</th>\n",
       "      <th>fAlpha</th>\n",
       "      <th>fDist</th>\n",
       "    </tr>\n",
       "  </thead>\n",
       "  <tbody>\n",
       "    <tr>\n",
       "      <th>0</th>\n",
       "      <td>-0.653491</td>\n",
       "      <td>-0.610788</td>\n",
       "      <td>-0.930866</td>\n",
       "      <td>0.824797</td>\n",
       "      <td>1.168243</td>\n",
       "      <td>0.238861</td>\n",
       "      <td>0.176638</td>\n",
       "      <td>-0.443504</td>\n",
       "      <td>0.479847</td>\n",
       "      <td>-0.837996</td>\n",
       "    </tr>\n",
       "    <tr>\n",
       "      <th>1</th>\n",
       "      <td>-0.759484</td>\n",
       "      <td>-0.558709</td>\n",
       "      <td>-0.728840</td>\n",
       "      <td>0.878574</td>\n",
       "      <td>0.899038</td>\n",
       "      <td>0.523202</td>\n",
       "      <td>0.022989</td>\n",
       "      <td>0.227793</td>\n",
       "      <td>-0.988790</td>\n",
       "      <td>0.360341</td>\n",
       "    </tr>\n",
       "    <tr>\n",
       "      <th>2</th>\n",
       "      <td>0.382777</td>\n",
       "      <td>-0.305999</td>\n",
       "      <td>0.589898</td>\n",
       "      <td>-0.742894</td>\n",
       "      <td>-0.749283</td>\n",
       "      <td>0.107712</td>\n",
       "      <td>0.746915</td>\n",
       "      <td>0.487793</td>\n",
       "      <td>0.148187</td>\n",
       "      <td>0.954252</td>\n",
       "    </tr>\n",
       "    <tr>\n",
       "      <th>3</th>\n",
       "      <td>-0.585382</td>\n",
       "      <td>-0.818469</td>\n",
       "      <td>-1.363298</td>\n",
       "      <td>0.796007</td>\n",
       "      <td>0.516248</td>\n",
       "      <td>-0.466008</td>\n",
       "      <td>-0.350714</td>\n",
       "      <td>-0.069763</td>\n",
       "      <td>0.210024</td>\n",
       "      <td>-0.776124</td>\n",
       "    </tr>\n",
       "    <tr>\n",
       "      <th>4</th>\n",
       "      <td>1.426304</td>\n",
       "      <td>1.548795</td>\n",
       "      <td>3.313147</td>\n",
       "      <td>-1.760860</td>\n",
       "      <td>-1.667799</td>\n",
       "      <td>1.048372</td>\n",
       "      <td>1.617822</td>\n",
       "      <td>1.691802</td>\n",
       "      <td>-0.873921</td>\n",
       "      <td>0.845862</td>\n",
       "    </tr>\n",
       "  </tbody>\n",
       "</table>\n",
       "</div>"
      ]
     },
     "execution_count": 38,
     "metadata": {},
     "output_type": "execute_result"
    }
   ],
   "execution_count": 38
  },
  {
   "cell_type": "markdown",
   "id": "155c521d-6f9f-4476-ba02-e316d3c927f0",
   "metadata": {},
   "source": [
    "show the validate dataset after normalizing"
   ]
  },
  {
   "cell_type": "code",
   "id": "aa8547d8-573f-4286-94f1-f0a71a9be21e",
   "metadata": {
    "ExecuteTime": {
     "end_time": "2024-11-04T11:38:49.627038Z",
     "start_time": "2024-11-04T11:38:49.618514Z"
    }
   },
   "source": [
    "x_val_normalized = pd.DataFrame(x_val, columns=x.columns)\n",
    "x_val_normalized.head()\n"
   ],
   "outputs": [
    {
     "data": {
      "text/plain": [
       "    fLength    fWidth     fSize     fConc    fConc1     fAsym   fM3Long  \\\n",
       "0 -0.657713 -0.633388 -0.501377  0.988845  0.990263  0.586748  0.173223   \n",
       "1 -0.221725 -0.329940  0.421719 -0.550599 -0.528374  0.070409  0.599055   \n",
       "2 -0.667278 -0.598738 -0.310914  0.690082  0.840904  0.169750  0.203187   \n",
       "3 -0.686709 -0.318150 -0.549098  0.125148 -0.027528  0.187883 -0.398926   \n",
       "4  1.044716  0.234850  1.190720 -1.243729 -1.119552 -1.775412  1.322163   \n",
       "\n",
       "   fM3Trans    fAlpha     fDist  \n",
       "0 -0.409929 -0.338409  0.641320  \n",
       "1  0.387912 -1.000900  0.154734  \n",
       "2  0.292108 -1.030247 -0.121906  \n",
       "3 -0.387884 -0.578751 -0.743381  \n",
       "4  0.799356 -0.976386  0.574922  "
      ],
      "text/html": [
       "<div>\n",
       "<style scoped>\n",
       "    .dataframe tbody tr th:only-of-type {\n",
       "        vertical-align: middle;\n",
       "    }\n",
       "\n",
       "    .dataframe tbody tr th {\n",
       "        vertical-align: top;\n",
       "    }\n",
       "\n",
       "    .dataframe thead th {\n",
       "        text-align: right;\n",
       "    }\n",
       "</style>\n",
       "<table border=\"1\" class=\"dataframe\">\n",
       "  <thead>\n",
       "    <tr style=\"text-align: right;\">\n",
       "      <th></th>\n",
       "      <th>fLength</th>\n",
       "      <th>fWidth</th>\n",
       "      <th>fSize</th>\n",
       "      <th>fConc</th>\n",
       "      <th>fConc1</th>\n",
       "      <th>fAsym</th>\n",
       "      <th>fM3Long</th>\n",
       "      <th>fM3Trans</th>\n",
       "      <th>fAlpha</th>\n",
       "      <th>fDist</th>\n",
       "    </tr>\n",
       "  </thead>\n",
       "  <tbody>\n",
       "    <tr>\n",
       "      <th>0</th>\n",
       "      <td>-0.657713</td>\n",
       "      <td>-0.633388</td>\n",
       "      <td>-0.501377</td>\n",
       "      <td>0.988845</td>\n",
       "      <td>0.990263</td>\n",
       "      <td>0.586748</td>\n",
       "      <td>0.173223</td>\n",
       "      <td>-0.409929</td>\n",
       "      <td>-0.338409</td>\n",
       "      <td>0.641320</td>\n",
       "    </tr>\n",
       "    <tr>\n",
       "      <th>1</th>\n",
       "      <td>-0.221725</td>\n",
       "      <td>-0.329940</td>\n",
       "      <td>0.421719</td>\n",
       "      <td>-0.550599</td>\n",
       "      <td>-0.528374</td>\n",
       "      <td>0.070409</td>\n",
       "      <td>0.599055</td>\n",
       "      <td>0.387912</td>\n",
       "      <td>-1.000900</td>\n",
       "      <td>0.154734</td>\n",
       "    </tr>\n",
       "    <tr>\n",
       "      <th>2</th>\n",
       "      <td>-0.667278</td>\n",
       "      <td>-0.598738</td>\n",
       "      <td>-0.310914</td>\n",
       "      <td>0.690082</td>\n",
       "      <td>0.840904</td>\n",
       "      <td>0.169750</td>\n",
       "      <td>0.203187</td>\n",
       "      <td>0.292108</td>\n",
       "      <td>-1.030247</td>\n",
       "      <td>-0.121906</td>\n",
       "    </tr>\n",
       "    <tr>\n",
       "      <th>3</th>\n",
       "      <td>-0.686709</td>\n",
       "      <td>-0.318150</td>\n",
       "      <td>-0.549098</td>\n",
       "      <td>0.125148</td>\n",
       "      <td>-0.027528</td>\n",
       "      <td>0.187883</td>\n",
       "      <td>-0.398926</td>\n",
       "      <td>-0.387884</td>\n",
       "      <td>-0.578751</td>\n",
       "      <td>-0.743381</td>\n",
       "    </tr>\n",
       "    <tr>\n",
       "      <th>4</th>\n",
       "      <td>1.044716</td>\n",
       "      <td>0.234850</td>\n",
       "      <td>1.190720</td>\n",
       "      <td>-1.243729</td>\n",
       "      <td>-1.119552</td>\n",
       "      <td>-1.775412</td>\n",
       "      <td>1.322163</td>\n",
       "      <td>0.799356</td>\n",
       "      <td>-0.976386</td>\n",
       "      <td>0.574922</td>\n",
       "    </tr>\n",
       "  </tbody>\n",
       "</table>\n",
       "</div>"
      ]
     },
     "execution_count": 39,
     "metadata": {},
     "output_type": "execute_result"
    }
   ],
   "execution_count": 39
  },
  {
   "cell_type": "markdown",
   "id": "0787194e-70b5-45b2-a37d-b034108141ba",
   "metadata": {},
   "source": [
    "Define the model : Init K-NN\n",
    "Here we return the data back in the form of data frame"
   ]
  },
  {
   "cell_type": "code",
   "id": "85f5aca6-216b-4dc9-b290-ce219af84dec",
   "metadata": {
    "ExecuteTime": {
     "end_time": "2024-11-04T11:39:06.280067Z",
     "start_time": "2024-11-04T11:38:49.728952Z"
    }
   },
   "source": [
    "k_values = range(1,30)  # Trying a wider range of k values from 1 to 30\n",
    "training_accuracy=[]\n",
    "validation_accuracy = []\n",
    "\n",
    "for k in k_values:\n",
    "    knn = KNeighborsClassifier(n_neighbors=k)\n",
    "    knn.fit(x_train_normalized, y_train)\n",
    "    training_accuracy.append(knn.score(x_train_normalized, y_train))\n",
    "    validation_accuracy.append(knn.score(x_val_normalized, y_val))\n",
    "    "
   ],
   "outputs": [],
   "execution_count": 40
  },
  {
   "metadata": {},
   "cell_type": "markdown",
   "source": [
    "we will start trying different k values \n",
    "[7]we train the model using KNN drop to drop the target column then fit data\n",
    "I give it the column containing the correct answers and the data\n",
    "The function knn.score calculates the portion of the correct answers"
   ],
   "id": "113ada00e9b1fb37"
  },
  {
   "cell_type": "code",
   "id": "5590dbf0-2b0f-4cab-a228-db2e96e3abcc",
   "metadata": {
    "ExecuteTime": {
     "end_time": "2024-11-04T11:39:06.396297Z",
     "start_time": "2024-11-04T11:39:06.307886Z"
    }
   },
   "source": [
    "plt.plot(k_values,training_accuracy,label=\"training accuracy\")\n",
    "plt.plot(k_values,validation_accuracy,label=\"validation accuracy\")\n",
    "plt.ylabel(\"Accuracy\")\n",
    "plt.xlabel(\"Number of neighbors (K)\")\n",
    "plt.legend()\n"
   ],
   "outputs": [
    {
     "data": {
      "text/plain": [
       "<matplotlib.legend.Legend at 0x2944faf4e90>"
      ]
     },
     "execution_count": 41,
     "metadata": {},
     "output_type": "execute_result"
    },
    {
     "data": {
      "text/plain": [
       "<Figure size 640x480 with 1 Axes>"
      ],
      "image/png": "[encoded data removed]"
     },
     "metadata": {},
     "output_type": "display_data"
    }
   ],
   "execution_count": 41
  },
  {
   "cell_type": "code",
   "id": "a7aaa4a4-8af1-431d-8cf9-9acca28962ac",
   "metadata": {
    "ExecuteTime": {
     "end_time": "2024-11-04T11:39:06.652336Z",
     "start_time": "2024-11-04T11:39:06.402902Z"
    }
   },
   "source": [
    "best_k_index = validation_accuracy.index(max(validation_accuracy))\n",
    "best_k = k_values[best_k_index]\n",
    "\n",
    "final_knn = KNeighborsClassifier(n_neighbors=best_k)\n",
    "final_knn.fit(x_train_normalized, y_train)\n",
    "y_test_pred = final_knn.predict(x_test_normalized)\n",
    "\n",
    "test_accuracy1 = final_knn.score(x_test_normalized, y_test)\n",
    "test_accuracy2 = accuracy_score(y_test, y_test_pred)\n",
    "test_precision = precision_score(y_test, y_test_pred, pos_label='g', zero_division=1)\n",
    "test_recall = recall_score(y_test, y_test_pred, pos_label='g', zero_division=1)\n",
    "test_f1 = f1_score(y_test, y_test_pred, pos_label='g', zero_division=1)\n",
    "test_confusion_matrix = confusion_matrix(y_test, y_test_pred)\n",
    "\n",
    "print(\"Evaluation on Test Set:\")\n",
    "print(f\"Best k value is: {best_k}\")\n",
    "print(f\"Test Accuracy with best k: {test_accuracy1 * 100:.2f}%\")\n",
    "print(f\"Test Accuracy with best k: {test_accuracy2 * 100:.2f}%\")\n",
    "print(f\"Precision: {test_precision * 100:.2f}%\")\n",
    "print(f\"Recall: {test_recall * 100:.2f}%\")\n",
    "print(f\"F1 Score: {test_f1 * 100:.2f}%\")\n",
    "print(\"Confusion Matrix:\")\n",
    "print(test_confusion_matrix)\n"
   ],
   "outputs": [
    {
     "name": "stdout",
     "output_type": "stream",
     "text": [
      "Evaluation on Test Set:\n",
      "Best k value is: 11\n",
      "Test Accuracy with best k: 82.66%\n",
      "Test Accuracy with best k: 82.66%\n",
      "Precision: 78.32%\n",
      "Recall: 90.34%\n",
      "F1 Score: 83.90%\n",
      "Confusion Matrix:\n",
      "[[907  97]\n",
      " [251 752]]\n"
     ]
    }
   ],
   "execution_count": 42
  },
  {
   "metadata": {},
   "cell_type": "markdown",
   "source": [
    "Here we calculated the best k that got the best accuracy in the validation data \n",
    "we used this k for our knn model \n",
    "we entered the test data and calculated accuracy, precision, recall, f1 and the cofusion matrix\n",
    "The function accuracy_score calculates the portion of the correct answers\n",
    "The function precision_score calculates the ratio of the correct answers to the total predicted answers\n",
    "The function recall_score calculates the ratio of the results saying it is glass  to the actual g glass\n",
    "The function f1_score balance correctly identified samples and minimizing false outputs\n",
    " The confusion matrix is Matrix containing true g positives, true h negatives, false g positives, false h negatives"
   ],
   "id": "9d34f3eaa147df50"
  }
 ],
 "metadata": {
  "kernelspec": {
   "display_name": "Python 3 (ipykernel)",
   "language": "python",
   "name": "python3"
  },
  "language_info": {
   "codemirror_mode": {
    "name": "ipython",
    "version": 3
   },
   "file_extension": ".py",
   "mimetype": "text/x-python",
   "name": "python",
   "nbconvert_exporter": "python",
   "pygments_lexer": "ipython3",
   "version": "3.12.7"
  }
 },
 "nbformat": 4,
 "nbformat_minor": 5
}
