{
 "cells": [
  {
   "cell_type": "code",
   "id": "initial_id",
   "metadata": {
    "collapsed": true,
    "ExecuteTime": {
     "end_time": "2024-11-04T13:21:32.034903Z",
     "start_time": "2024-11-04T13:21:32.019202Z"
    }
   },
   "source": [
    "import pandas as pd\n",
    "import numpy as np\n",
    "from sklearn.model_selection import train_test_split\n",
    "from sklearn.linear_model import LinearRegression, Lasso, Ridge\n",
    "from sklearn.metrics import mean_squared_error, mean_absolute_error\n",
    "from sklearn.preprocessing import StandardScaler\n"
   ],
   "outputs": [],
   "execution_count": 26
  },
  {
   "metadata": {},
   "cell_type": "markdown",
   "source": "Use pandas library to read our data from the California_Houses.csv file\n",
   "id": "95189ccc1a08dd1"
  },
  {
   "metadata": {
    "ExecuteTime": {
     "end_time": "2024-11-04T13:21:32.200025Z",
     "start_time": "2024-11-04T13:21:32.143076Z"
    }
   },
   "cell_type": "code",
   "source": [
    "df = pd.read_csv(r'D:\\term 7\\machine learning\\ML- Assignment 1\\ML- Assignment 1\\California_Houses.csv')\n",
    "df.head()"
   ],
   "id": "3a93807e708d438d",
   "outputs": [
    {
     "data": {
      "text/plain": [
       "   Median_House_Value  Median_Income  Median_Age  Tot_Rooms  Tot_Bedrooms  \\\n",
       "0            452600.0         8.3252          41        880           129   \n",
       "1            358500.0         8.3014          21       7099          1106   \n",
       "2            352100.0         7.2574          52       1467           190   \n",
       "3            341300.0         5.6431          52       1274           235   \n",
       "4            342200.0         3.8462          52       1627           280   \n",
       "\n",
       "   Population  Households  Latitude  Longitude  Distance_to_coast  \\\n",
       "0         322         126     37.88    -122.23        9263.040773   \n",
       "1        2401        1138     37.86    -122.22       10225.733072   \n",
       "2         496         177     37.85    -122.24        8259.085109   \n",
       "3         558         219     37.85    -122.25        7768.086571   \n",
       "4         565         259     37.85    -122.25        7768.086571   \n",
       "\n",
       "   Distance_to_LA  Distance_to_SanDiego  Distance_to_SanJose  \\\n",
       "0   556529.158342         735501.806984         67432.517001   \n",
       "1   554279.850069         733236.884360         65049.908574   \n",
       "2   554610.717069         733525.682937         64867.289833   \n",
       "3   555194.266086         734095.290744         65287.138412   \n",
       "4   555194.266086         734095.290744         65287.138412   \n",
       "\n",
       "   Distance_to_SanFrancisco  \n",
       "0              21250.213767  \n",
       "1              20880.600400  \n",
       "2              18811.487450  \n",
       "3              18031.047568  \n",
       "4              18031.047568  "
      ],
      "text/html": [
       "<div>\n",
       "<style scoped>\n",
       "    .dataframe tbody tr th:only-of-type {\n",
       "        vertical-align: middle;\n",
       "    }\n",
       "\n",
       "    .dataframe tbody tr th {\n",
       "        vertical-align: top;\n",
       "    }\n",
       "\n",
       "    .dataframe thead th {\n",
       "        text-align: right;\n",
       "    }\n",
       "</style>\n",
       "<table border=\"1\" class=\"dataframe\">\n",
       "  <thead>\n",
       "    <tr style=\"text-align: right;\">\n",
       "      <th></th>\n",
       "      <th>Median_House_Value</th>\n",
       "      <th>Median_Income</th>\n",
       "      <th>Median_Age</th>\n",
       "      <th>Tot_Rooms</th>\n",
       "      <th>Tot_Bedrooms</th>\n",
       "      <th>Population</th>\n",
       "      <th>Households</th>\n",
       "      <th>Latitude</th>\n",
       "      <th>Longitude</th>\n",
       "      <th>Distance_to_coast</th>\n",
       "      <th>Distance_to_LA</th>\n",
       "      <th>Distance_to_SanDiego</th>\n",
       "      <th>Distance_to_SanJose</th>\n",
       "      <th>Distance_to_SanFrancisco</th>\n",
       "    </tr>\n",
       "  </thead>\n",
       "  <tbody>\n",
       "    <tr>\n",
       "      <th>0</th>\n",
       "      <td>452600.0</td>\n",
       "      <td>8.3252</td>\n",
       "      <td>41</td>\n",
       "      <td>880</td>\n",
       "      <td>129</td>\n",
       "      <td>322</td>\n",
       "      <td>126</td>\n",
       "      <td>37.88</td>\n",
       "      <td>-122.23</td>\n",
       "      <td>9263.040773</td>\n",
       "      <td>556529.158342</td>\n",
       "      <td>735501.806984</td>\n",
       "      <td>67432.517001</td>\n",
       "      <td>21250.213767</td>\n",
       "    </tr>\n",
       "    <tr>\n",
       "      <th>1</th>\n",
       "      <td>358500.0</td>\n",
       "      <td>8.3014</td>\n",
       "      <td>21</td>\n",
       "      <td>7099</td>\n",
       "      <td>1106</td>\n",
       "      <td>2401</td>\n",
       "      <td>1138</td>\n",
       "      <td>37.86</td>\n",
       "      <td>-122.22</td>\n",
       "      <td>10225.733072</td>\n",
       "      <td>554279.850069</td>\n",
       "      <td>733236.884360</td>\n",
       "      <td>65049.908574</td>\n",
       "      <td>20880.600400</td>\n",
       "    </tr>\n",
       "    <tr>\n",
       "      <th>2</th>\n",
       "      <td>352100.0</td>\n",
       "      <td>7.2574</td>\n",
       "      <td>52</td>\n",
       "      <td>1467</td>\n",
       "      <td>190</td>\n",
       "      <td>496</td>\n",
       "      <td>177</td>\n",
       "      <td>37.85</td>\n",
       "      <td>-122.24</td>\n",
       "      <td>8259.085109</td>\n",
       "      <td>554610.717069</td>\n",
       "      <td>733525.682937</td>\n",
       "      <td>64867.289833</td>\n",
       "      <td>18811.487450</td>\n",
       "    </tr>\n",
       "    <tr>\n",
       "      <th>3</th>\n",
       "      <td>341300.0</td>\n",
       "      <td>5.6431</td>\n",
       "      <td>52</td>\n",
       "      <td>1274</td>\n",
       "      <td>235</td>\n",
       "      <td>558</td>\n",
       "      <td>219</td>\n",
       "      <td>37.85</td>\n",
       "      <td>-122.25</td>\n",
       "      <td>7768.086571</td>\n",
       "      <td>555194.266086</td>\n",
       "      <td>734095.290744</td>\n",
       "      <td>65287.138412</td>\n",
       "      <td>18031.047568</td>\n",
       "    </tr>\n",
       "    <tr>\n",
       "      <th>4</th>\n",
       "      <td>342200.0</td>\n",
       "      <td>3.8462</td>\n",
       "      <td>52</td>\n",
       "      <td>1627</td>\n",
       "      <td>280</td>\n",
       "      <td>565</td>\n",
       "      <td>259</td>\n",
       "      <td>37.85</td>\n",
       "      <td>-122.25</td>\n",
       "      <td>7768.086571</td>\n",
       "      <td>555194.266086</td>\n",
       "      <td>734095.290744</td>\n",
       "      <td>65287.138412</td>\n",
       "      <td>18031.047568</td>\n",
       "    </tr>\n",
       "  </tbody>\n",
       "</table>\n",
       "</div>"
      ]
     },
     "execution_count": 27,
     "metadata": {},
     "output_type": "execute_result"
    }
   ],
   "execution_count": 27
  },
  {
   "metadata": {},
   "cell_type": "markdown",
   "source": "next cell split data to target that want to be predicted and feature that will be used to predict the target \n",
   "id": "77786e99ce718f44"
  },
  {
   "metadata": {
    "ExecuteTime": {
     "end_time": "2024-11-04T13:21:32.259321Z",
     "start_time": "2024-11-04T13:21:32.253564Z"
    }
   },
   "cell_type": "code",
   "source": [
    "target = df[\"Median_House_Value\"]\n",
    "feature = df[[\"Median_Income\",\"Median_Age\",\"Tot_Rooms\",\"Tot_Bedrooms\",\"Population\",\"Households\",\"Latitude\",\"Longitude\",\"Distance_to_coast\",\"Distance_to_LA\",\"Distance_to_SanDiego\",\"Distance_to_SanJose\",\"Distance_to_SanFrancisco\"]]\n"
   ],
   "id": "8d79cda295311bdf",
   "outputs": [],
   "execution_count": 28
  },
  {
   "metadata": {},
   "cell_type": "markdown",
   "source": [
    "Split the data into Train, Test, and Validation sets\n",
    "This train_test_split data 70% train data and 30% temp data that will be split\n",
    "This split temp data to two equal parts part for val and other for testing"
   ],
   "id": "22cab9aa9dcb19f5"
  },
  {
   "metadata": {
    "ExecuteTime": {
     "end_time": "2024-11-04T13:21:32.360972Z",
     "start_time": "2024-11-04T13:21:32.335565Z"
    }
   },
   "cell_type": "code",
   "source": [
    "x_train,x_test_temp,y_train,y_test_temp = train_test_split(feature, target, test_size= 0.3, random_state= 42)\n",
    "x_test,x_val,y_test,y_val = train_test_split(x_test_temp, y_test_temp, test_size=0.5, random_state=42)"
   ],
   "id": "81d94e02d509a182",
   "outputs": [],
   "execution_count": 29
  },
  {
   "metadata": {},
   "cell_type": "markdown",
   "source": "",
   "id": "15b324b60a6b55d6"
  },
  {
   "metadata": {
    "ExecuteTime": {
     "end_time": "2024-11-04T13:21:32.422028Z",
     "start_time": "2024-11-04T13:21:32.409791Z"
    }
   },
   "cell_type": "code",
   "source": [
    "scaler = StandardScaler()\n",
    "x_train_norm = scaler.fit_transform(x_train)\n",
    "x_test_norm = scaler.transform(x_test)\n",
    "x_val_norm = scaler.transform(x_val)\n"
   ],
   "id": "8fc4eb0df4551fc6",
   "outputs": [],
   "execution_count": 30
  },
  {
   "metadata": {},
   "cell_type": "markdown",
   "source": "",
   "id": "facec38f33d642d1"
  },
  {
   "metadata": {},
   "cell_type": "markdown",
   "source": [
    "StandardScaler is an object that will normalize the features by removing the mean and scaling each feature to unit variance\n",
    "Normalization or standardization is done to bring all features onto a similar scale"
   ],
   "id": "7a7bee9ef6139b68"
  },
  {
   "metadata": {
    "ExecuteTime": {
     "end_time": "2024-11-04T13:21:32.542790Z",
     "start_time": "2024-11-04T13:21:32.492646Z"
    }
   },
   "cell_type": "code",
   "source": [
    "#1-linear regression\n",
    "\n",
    "linear = LinearRegression()\n",
    "linear.fit(x_train_norm, y_train)\n",
    "linear_pred_val = linear.predict(x_val_norm)\n",
    "\n",
    "linear_pred_test = linear.predict(x_test_norm)\n",
    "\n",
    "#calculate Mean Square Error and Mean Absolute Error for validate data\n",
    "mse_linear_val = mean_squared_error(y_val, linear_pred_val)\n",
    "mae_linear_val = mean_absolute_error(y_val, linear_pred_val)\n",
    "\n",
    "#calculate Mean Square Error and Mean Absolute Error \n",
    "mse_linear_test = mean_squared_error(y_test, linear_pred_test)\n",
    "mae_linear_test = mean_absolute_error(y_test, linear_pred_test)\n",
    "print(f\"Linear Regression\")\n",
    "print(\"Mean Squared error and Mean Absolute Error using validate data:\")\n",
    "print(f\"Mean Squared Error: {mse_linear_val:.4f}\\nMean Absolute Error: {mae_linear_val:.4f}\")\n",
    "print(\"Mean Squared error and Mean Absolute Error using test data:\")\n",
    "print(f\"Mean Squared Error: {mse_linear_test:.4f}\\nMean Absolute Error: {mae_linear_test:.4f}\")\n"
   ],
   "id": "1f35129fc1592cff",
   "outputs": [
    {
     "name": "stdout",
     "output_type": "stream",
     "text": [
      "Linear Regression\n",
      "Mean Squared error and Mean Absolute Error using validate data:\n",
      "Mean Squared Error: 4400953150.6137\n",
      "Mean Absolute Error: 48782.0311\n",
      "Mean Squared error and Mean Absolute Error using test data:\n",
      "Mean Squared Error: 4907211997.3748\n",
      "Mean Absolute Error: 50790.0603\n"
     ]
    }
   ],
   "execution_count": 31
  },
  {
   "metadata": {},
   "cell_type": "markdown",
   "source": [
    "Here, we're creating an instance of the LinearRegression model from scikit-learn\n",
    "Then We’re fitting the linear model to the training data\n",
    "After the model is trained, it is used to make predictions on the validation data and test\n",
    "It generates predicted values for the median house prices based on the features \n",
    "Mean Squared Error (MSE) and Mean Absolute Error (MAE) are calculated to evaluate the model's performance"
   ],
   "id": "abf3c30d5dc93c4b"
  },
  {
   "metadata": {
    "ExecuteTime": {
     "end_time": "2024-11-04T13:21:44.083002Z",
     "start_time": "2024-11-04T13:21:32.595834Z"
    }
   },
   "cell_type": "code",
   "source": [
    "#2-lasso regression\n",
    "\n",
    "# Define a range of alpha values to try\n",
    "alpha_values = [0.1, 1, 50, 45]\n",
    "best_alpha = None\n",
    "best_mse_val = float('inf')\n",
    "best_model = None\n",
    "\n",
    "# Loop through each alpha value\n",
    "for alpha in alpha_values:\n",
    "    # Create a Lasso model with the current alpha value and increased max_iter\n",
    "    lasso = Lasso(alpha=alpha, max_iter=5000)\n",
    "    lasso.fit(x_train_norm, y_train)\n",
    "    \n",
    "    # Predict on the validation set\n",
    "    lasso_pred_val = lasso.predict(x_val_norm)\n",
    "    \n",
    "    # Calculate the Mean Squared Error on the validation set\n",
    "    mse_val = mean_squared_error(y_val, lasso_pred_val)\n",
    "    \n",
    "    # Update best alpha if this one has the lowest validation MSE\n",
    "    if mse_val < best_mse_val:\n",
    "        best_mse_val = mse_val\n",
    "        best_alpha = alpha\n",
    "        best_model = lasso  # Save the best model\n",
    "\n",
    "# Print the best alpha and validation MSE\n",
    "print(f\"Best alpha found: {best_alpha}\")\n",
    "print(f\"Validation Mean Squared Error (MSE): {best_mse_val:.4f}\")\n",
    "\n",
    "# Use the best model to make predictions on the test set\n",
    "lasso_pred_test = best_model.predict(x_test_norm)\n",
    "mse_lasso_test = mean_squared_error(y_test, lasso_pred_test)\n",
    "mae_lasso_test = mean_absolute_error(y_test, lasso_pred_test)\n",
    "\n",
    "# Print results for test set\n",
    "print(\"Test Mean Squared Error (MSE):\", mse_lasso_test)\n",
    "print(\"Test Mean Absolute Error (MAE):\", mae_lasso_test)\n"
   ],
   "id": "fb789aaf889bd3f",
   "outputs": [
    {
     "name": "stdout",
     "output_type": "stream",
     "text": [
      "Best alpha found: 45\n",
      "Validation Mean Squared Error (MSE): 4398910243.3335\n",
      "Test Mean Squared Error (MSE): 4910977739.600413\n",
      "Test Mean Absolute Error (MAE): 50836.47618953052\n"
     ]
    }
   ],
   "execution_count": 32
  },
  {
   "metadata": {},
   "cell_type": "markdown",
   "source": [
    "Here, we create an instance of the Lasso regression model from scikit-learn\n",
    "The alpha parameter is calculated based on the minimum mse when applied on the validation dataset\n",
    "The lasso model is trained on the training data\n",
    "After training, the model is used to predict the target variable values for the validation data and test data\n",
    "It generates predicted values for the median house prices based on the features \n",
    "Mean Squared Error (MSE) and Mean Absolute Error (MAE) are calculated to evaluate the performance of the Lasso model"
   ],
   "id": "90e80ff7852fcfea"
  },
  {
   "metadata": {
    "ExecuteTime": {
     "end_time": "2024-11-04T13:21:44.116471Z",
     "start_time": "2024-11-04T13:21:44.088833Z"
    }
   },
   "cell_type": "code",
   "source": [
    "#3-ridge regression\n",
    "\n",
    "# Define a range of alpha values to try\n",
    "alpha_values = [0.1, 1, 50, 45]\n",
    "best_alpha = None\n",
    "best_mse_val = float('inf')\n",
    "best_model = None\n",
    "\n",
    "# Loop through each alpha value\n",
    "for alpha in alpha_values:\n",
    "    # Create a Ridge model with the current alpha value\n",
    "    ridge = Ridge(alpha=alpha)\n",
    "    ridge.fit(x_train_norm, y_train)\n",
    "    \n",
    "    # Predict on the validation set\n",
    "    ridge_pred_val = ridge.predict(x_val_norm)\n",
    "    \n",
    "    # Calculate the Mean Squared Error on the validation set\n",
    "    mse_val = mean_squared_error(y_val, ridge_pred_val)\n",
    "    \n",
    "    # Update best alpha if this one has the lowest validation MSE\n",
    "    if mse_val < best_mse_val:\n",
    "        best_mse_val = mse_val\n",
    "        best_alpha = alpha\n",
    "        best_model = ridge  # Save the best model\n",
    "\n",
    "# Print the best alpha and validation MSE\n",
    "print(f\"Best alpha found: {best_alpha}\")\n",
    "print(f\"Validation Mean Squared Error (MSE): {best_mse_val:.4f}\")\n",
    "\n",
    "# Use the best model to make predictions on the test set\n",
    "ridge_pred_test = best_model.predict(x_test_norm)\n",
    "mse_ridge_test = mean_squared_error(y_test, ridge_pred_test)\n",
    "mae_ridge_test = mean_absolute_error(y_test, ridge_pred_test)\n",
    "\n",
    "# Print results for test set\n",
    "print(\"Test Mean Squared Error (MSE):\", mse_ridge_test)\n",
    "print(\"Test Mean Absolute Error (MAE):\", mae_ridge_test)\n"
   ],
   "id": "a861256e829dc4ee",
   "outputs": [
    {
     "name": "stdout",
     "output_type": "stream",
     "text": [
      "Best alpha found: 1\n",
      "Validation Mean Squared Error (MSE): 4400540039.5975\n",
      "Test Mean Squared Error (MSE): 4907281049.444644\n",
      "Test Mean Absolute Error (MAE): 50793.61026819888\n"
     ]
    }
   ],
   "execution_count": 33
  },
  {
   "metadata": {},
   "cell_type": "markdown",
   "source": [
    "Here, we're creating an instance of the Ridge regression model from scikit-learn\n",
    "The alpha parameter is calculated based on the minimum mse when applied on the validation dataset\n",
    "the ridge model is trained on the training data\n",
    "After training, the model is used to make predictions for the validation data and test data\n",
    "It generates predicted values for the median house prices based on the features "
   ],
   "id": "b017165ebc03aa3a"
  },
  {
   "metadata": {
    "ExecuteTime": {
     "end_time": "2024-11-04T13:21:44.173310Z",
     "start_time": "2024-11-04T13:21:44.166026Z"
    }
   },
   "cell_type": "code",
   "source": [
    "print(\"Mean Squared error and Mean Absolute Error using test data:\")\n",
    "print(f\"Linear Regression\\nMean Squared Error: {mse_linear_test:.4f}\\nMean Absolute Error: {mae_linear_test:.4f}\")\n",
    "print(f\"Lasso Regression:\\nMean Squared Error: {mse_lasso_test:.4f}\\nMean Absolute Error:{mae_lasso_test:.4f}\")\n",
    "print(f\"Ridge Regression:\\nMean Squared Error:{mse_ridge_test:.4f}\\nMean Absolute Error:{mae_ridge_test:.4f}\")"
   ],
   "id": "b422c1a4ffb918f2",
   "outputs": [
    {
     "name": "stdout",
     "output_type": "stream",
     "text": [
      "Mean Squared error and Mean Absolute Error using test data:\n",
      "Linear Regression\n",
      "Mean Squared Error: 4907211997.3748\n",
      "Mean Absolute Error: 50790.0603\n",
      "Lasso Regression:\n",
      "Mean Squared Error: 4910977739.6004\n",
      "Mean Absolute Error:50836.4762\n",
      "Ridge Regression:\n",
      "Mean Squared Error:4907281049.4446\n",
      "Mean Absolute Error:50793.6103\n"
     ]
    }
   ],
   "execution_count": 34
  },
  {
   "metadata": {},
   "cell_type": "markdown",
   "source": [
    "Linear Regression showed the lowest mean squared error and mean absolute error\n",
    "Lasso Regression produced a higher mean squared error and mean absolute error\n",
    "Ridge Regression produced a lower mean squared error than lasso \n",
    "conclusion:\n",
    "Linear Regression is performing well both Lasso and Ridge regressions did not provide a noticeable advantage in predictive accuracy"
   ],
   "id": "9198d843a06ed5ab"
  },
  {
   "metadata": {},
   "cell_type": "markdown",
   "source": "",
   "id": "da36d85a933863b0"
  }
 ],
 "metadata": {
  "kernelspec": {
   "display_name": "Python 3",
   "language": "python",
   "name": "python3"
  },
  "language_info": {
   "codemirror_mode": {
    "name": "ipython",
    "version": 2
   },
   "file_extension": ".py",
   "mimetype": "text/x-python",
   "name": "python",
   "nbconvert_exporter": "python",
   "pygments_lexer": "ipython2",
   "version": "2.7.6"
  }
 },
 "nbformat": 4,
 "nbformat_minor": 5
}
